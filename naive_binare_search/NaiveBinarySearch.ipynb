{
 "cells": [
  {
   "cell_type": "code",
   "execution_count": 5,
   "id": "db496603-0060-427f-b79a-0a70f5220e4d",
   "metadata": {},
   "outputs": [
    {
     "name": "stdout",
     "output_type": "stream",
     "text": [
      "Naive search time:  0.00030662519931793215 seconds\n",
      "Binary search time:  5.601644515991211e-06 seconds\n"
     ]
    }
   ],
   "source": [
    "import random as rd\n",
    "import time\n",
    "\n",
    "def naive_search(l, target):\n",
    "    for i in range(len(l)):\n",
    "        if l[i] == target:\n",
    "            return i\n",
    "    \n",
    "    return -1\n",
    "\n",
    "def binary_search(l, target, low=None, high=None):\n",
    "    if low is None:\n",
    "        low = 0\n",
    "    if high is None:\n",
    "        high = len(l) - 1\n",
    "    \n",
    "    if high < low:\n",
    "        return -1\n",
    "    \n",
    "    midpoint = (low + high) // 2\n",
    "    \n",
    "    if l[midpoint] == target:\n",
    "        return midpoint\n",
    "    elif target < l[midpoint]:\n",
    "        return binary_search(l, target, low, midpoint-1)\n",
    "    else:\n",
    "        return binary_search(l, target, midpoint+1, high)\n",
    "\n",
    "if __name__=='__main__':\n",
    "    length = 10000\n",
    "    sorted_list = set()\n",
    "    while len(sorted_list) < length:\n",
    "        sorted_list.add(rd.randint(-3*length,3*length))\n",
    "    \n",
    "    sorted_list = sorted(list(sorted_list))\n",
    "    \n",
    "    start = time.time()\n",
    "    for target in sorted_list:\n",
    "        naive_search(sorted_list, target)\n",
    "    end = time.time()\n",
    "    print('Naive search time: ', (end-start)/length, 'seconds')\n",
    "    \n",
    "    start = time.time()\n",
    "    for target in sorted_list:\n",
    "        binary_search(sorted_list, target)\n",
    "    end = time.time()\n",
    "    print('Binary search time: ', (end-start)/length, 'seconds')\n",
    "    \n",
    "    \n",
    "    \n",
    "    \n",
    "    \n",
    "\n",
    "\n",
    "\n",
    "\n",
    "\n",
    "\n",
    "\n",
    "\n",
    "\n",
    "\n",
    "\n",
    "\n",
    "\n"
   ]
  }
 ],
 "metadata": {
  "kernelspec": {
   "display_name": "Python 3 (ipykernel)",
   "language": "python",
   "name": "python3"
  },
  "language_info": {
   "codemirror_mode": {
    "name": "ipython",
    "version": 3
   },
   "file_extension": ".py",
   "mimetype": "text/x-python",
   "name": "python",
   "nbconvert_exporter": "python",
   "pygments_lexer": "ipython3",
   "version": "3.9.7"
  }
 },
 "nbformat": 4,
 "nbformat_minor": 5
}
