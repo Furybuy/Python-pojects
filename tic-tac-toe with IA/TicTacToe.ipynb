{
 "cells": [
  {
   "cell_type": "code",
   "execution_count": null,
   "id": "94085d23-c1f6-4075-8341-376dfb5f8148",
   "metadata": {},
   "outputs": [
    {
     "name": "stdout",
     "output_type": "stream",
     "text": [
      " | 0 | 1 | 2 | \n",
      " | 3 | 4 | 5 | \n",
      " | 6 | 7 | 8 | \n"
     ]
    },
    {
     "name": "stdin",
     "output_type": "stream",
     "text": [
      "X's turn. Input move (0-8):  3\n"
     ]
    },
    {
     "name": "stdout",
     "output_type": "stream",
     "text": [
      "X makes a move to square 3\n",
      "|   |   |   | \n",
      "| X |   |   | \n",
      "|   |   |   | \n",
      "\n",
      "O makes a move to square 0\n",
      "| O |   |   | \n",
      "| X |   |   | \n",
      "|   |   |   | \n",
      "\n"
     ]
    },
    {
     "name": "stdin",
     "output_type": "stream",
     "text": [
      "X's turn. Input move (0-8):  2\n"
     ]
    },
    {
     "name": "stdout",
     "output_type": "stream",
     "text": [
      "X makes a move to square 2\n",
      "| O |   | X | \n",
      "| X |   |   | \n",
      "|   |   |   | \n",
      "\n",
      "O makes a move to square 4\n",
      "| O |   | X | \n",
      "| X | O |   | \n",
      "|   |   |   | \n",
      "\n"
     ]
    }
   ],
   "source": [
    "import math\n",
    "import random\n",
    "from ipynb.fs.full.player import RandomComputerPlayer, HumanPlayer, GeniusComputerPlayer\n",
    "import time\n",
    "\n",
    "class TicTacToe:\n",
    "    def __init__(self):\n",
    "        self.board = [' '  for _ in range(9)] #board\n",
    "        self.current_winner = None #tracking of winner!\n",
    "    \n",
    "    def print_board(self):\n",
    "        for row in [self.board[i*3:(i+1)*3] for i in range(3)]:\n",
    "                print('| ' + ' | '.join(row) + ' | ')\n",
    "\n",
    "    @staticmethod\n",
    "    \n",
    "    def print_board_nums ():\n",
    "        # 0 , 1, 2 etc (what number correspond to what box)\n",
    "        number_board = [[str(i) for i in range(j*3, (j+1)*3)] for j in range(3)]\n",
    "        for row in number_board:\n",
    "            print(' | ' + ' | '.join(row) + ' | ') \n",
    "        \n",
    "    def available_moves(self):\n",
    "        return [i for i, spot in enumerate(self.board) if spot == ' ']\n",
    "\n",
    "    def empty_squares(self):\n",
    "        return ' ' in self.board\n",
    "                      \n",
    "    def num_empty_squares(self):\n",
    "        return self.board.count(' ')\n",
    "    \n",
    "    def make_move(self, square, letter):\n",
    "        if self.board[square] == ' ':\n",
    "            self.board[square] = letter\n",
    "            if self.winner(square, letter):\n",
    "                self.current_winner = letter\n",
    "            return True\n",
    "        return False\n",
    "    \n",
    "    def winner(self, square, letter):\n",
    "        #row\n",
    "        row_ind = square//3\n",
    "        row = self.board[row_ind*3 : (row_ind + 1) * 3]\n",
    "        if all([spot == letter for spot in row]):\n",
    "            return True\n",
    "        \n",
    "        #column\n",
    "        col_ind = square % 3\n",
    "        column = [self.board[col_ind+i*3] for i in range(3)]\n",
    "        # print('col', column)\n",
    "        if all([s == letter for s in column]):\n",
    "            return True\n",
    "        \n",
    "        #diagonal\n",
    "        #diagonal squares are even numbers (0, 2 ,4 ,6, 8)\n",
    "        if square % 2 == 0:\n",
    "            diagonal1 = [self.board[i] for i in [0, 4, 8]] #left to right diagonal\n",
    "            if all([spot == letter for spot in diagonal1]):\n",
    "                return True\n",
    "            diagonal2 = [self.board[i] for i in [2, 4, 6]] #right to left diagonal\n",
    "            if all([spot == letter for spot in diagonal2]):\n",
    "                return True\n",
    "        \n",
    "        return False\n",
    "\n",
    "def play(game, x_player, o_player, print_game=True):\n",
    "    if print_game:\n",
    "        game.print_board_nums()\n",
    "                      \n",
    "    letter = 'X'\n",
    "    while game.empty_squares():\n",
    "        if letter == 'O':\n",
    "            square = o_player.get_move(game)\n",
    "        else:\n",
    "            square = x_player.get_move(game)\n",
    "        \n",
    "        if game.make_move(square, letter):\n",
    "\n",
    "            if print_game:\n",
    "                print(letter + ' makes a move to square {}'.format(square))\n",
    "                game.print_board()\n",
    "                print('')\n",
    "\n",
    "            if game.current_winner:\n",
    "                if print_game:\n",
    "                    print(letter + ' wins!')\n",
    "                return letter  # ends the loop and exits the game\n",
    "            \n",
    "            letter = 'O' if letter == 'X' else 'X'  # switches player  \n",
    "            time.sleep(0.8)\n",
    "    \n",
    "    if print_game:\n",
    "        print('It\\'s a tie')\n",
    "\n",
    "if __name__ == '__main__':\n",
    "    x_player = HumanPlayer('X')\n",
    "    o_player = GeniusComputerPlayer('O')\n",
    "    t = TicTacToe()\n",
    "    play(t, x_player, o_player, print_game=True)"
   ]
  },
  {
   "cell_type": "code",
   "execution_count": null,
   "id": "abf304d5-618a-4220-b45d-0d764514942c",
   "metadata": {},
   "outputs": [],
   "source": []
  },
  {
   "cell_type": "code",
   "execution_count": null,
   "id": "a3122c98-4b6d-4ea4-aa77-c644102b8deb",
   "metadata": {},
   "outputs": [],
   "source": []
  },
  {
   "cell_type": "code",
   "execution_count": null,
   "id": "b3a8f86c-36fb-4bf4-bbd0-97a4102a2b46",
   "metadata": {},
   "outputs": [],
   "source": []
  }
 ],
 "metadata": {
  "kernelspec": {
   "display_name": "Python 3 (ipykernel)",
   "language": "python",
   "name": "python3"
  },
  "language_info": {
   "codemirror_mode": {
    "name": "ipython",
    "version": 3
   },
   "file_extension": ".py",
   "mimetype": "text/x-python",
   "name": "python",
   "nbconvert_exporter": "python",
   "pygments_lexer": "ipython3",
   "version": "3.9.7"
  }
 },
 "nbformat": 4,
 "nbformat_minor": 5
}
