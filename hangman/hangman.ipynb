{
 "cells": [
  {
   "cell_type": "code",
   "execution_count": null,
   "id": "df4a70a5-714e-4b9d-b80c-b0785bc4755c",
   "metadata": {},
   "outputs": [
    {
     "name": "stdout",
     "output_type": "stream",
     "text": [
      "You have  7 and you have use these letters:  \n",
      "Current word:  - - - -\n"
     ]
    },
    {
     "name": "stdin",
     "output_type": "stream",
     "text": [
      "Guess a letter:  h\n"
     ]
    },
    {
     "name": "stdout",
     "output_type": "stream",
     "text": [
      "\n",
      "You have  7 and you have use these letters:  H\n",
      "Current word:  - H - -\n"
     ]
    },
    {
     "name": "stdin",
     "output_type": "stream",
     "text": [
      "Guess a letter:  t\n"
     ]
    },
    {
     "name": "stdout",
     "output_type": "stream",
     "text": [
      "\n",
      "You have  7 and you have use these letters:  T H\n",
      "Current word:  T H - -\n"
     ]
    },
    {
     "name": "stdin",
     "output_type": "stream",
     "text": [
      "Guess a letter:  e\n"
     ]
    },
    {
     "name": "stdout",
     "output_type": "stream",
     "text": [
      "\n",
      "Your letter, E is not in the word.\n",
      "You have  6 and you have use these letters:  T H E\n",
      "Current word:  T H - -\n"
     ]
    },
    {
     "name": "stdin",
     "output_type": "stream",
     "text": [
      "Guess a letter:  a\n"
     ]
    },
    {
     "name": "stdout",
     "output_type": "stream",
     "text": [
      "\n",
      "Your letter, A is not in the word.\n",
      "You have  5 and you have use these letters:  T A H E\n",
      "Current word:  T H - -\n"
     ]
    },
    {
     "name": "stdin",
     "output_type": "stream",
     "text": [
      "Guess a letter:  o\n"
     ]
    },
    {
     "name": "stdout",
     "output_type": "stream",
     "text": [
      "\n",
      "Your letter, O is not in the word.\n",
      "You have  4 and you have use these letters:  A T E O H\n",
      "Current word:  T H - -\n"
     ]
    },
    {
     "name": "stdin",
     "output_type": "stream",
     "text": [
      "Guess a letter:  i\n"
     ]
    },
    {
     "name": "stdout",
     "output_type": "stream",
     "text": [
      "\n",
      "You have  4 and you have use these letters:  A I T E O H\n",
      "Current word:  T H I -\n"
     ]
    },
    {
     "name": "stdin",
     "output_type": "stream",
     "text": [
      "Guess a letter:  l\n"
     ]
    },
    {
     "name": "stdout",
     "output_type": "stream",
     "text": [
      "\n",
      "Your letter, L is not in the word.\n",
      "You have  3 and you have use these letters:  A I T E O L H\n",
      "Current word:  T H I -\n"
     ]
    }
   ],
   "source": [
    "import random as rd\n",
    "from words import words\n",
    "import string \n",
    "\n",
    "\n",
    "def getValidWord(words):\n",
    "    word = rd.choice(words)\n",
    "    while '-' in word or ' ' in word:\n",
    "        word = rd.choice(words)\n",
    "    \n",
    "    return word.upper()\n",
    "\n",
    "\n",
    "def hangman():\n",
    "    word = getValidWord(words)\n",
    "    word_letters = set(word)\n",
    "    alphabet = set(string.ascii_uppercase)\n",
    "    used_letters = set()\n",
    "    \n",
    "    lives = 7\n",
    "    \n",
    "    while len(word_letters) > 0 and lives > 0:\n",
    "        #used letters\n",
    "        print(f'You have ', lives, 'and you have use these letters: ', ' '.join(used_letters))\n",
    "        \n",
    "        word_list = [letter if letter in used_letters else '-' for letter in word]\n",
    "        \n",
    "        print('Current word: ', ' '.join(word_list))\n",
    "        \n",
    "        user_letter = input('Guess a letter: ').upper()\n",
    "        if user_letter in alphabet - used_letters:\n",
    "            used_letters.add(user_letter)\n",
    "            if user_letter in word_letters:\n",
    "                word_letters.remove(user_letter)\n",
    "                print('')\n",
    "            \n",
    "            else:\n",
    "                lives = lives - 1\n",
    "                print('\\nYour letter,', user_letter, 'is not in the word.')\n",
    "\n",
    "\n",
    "        elif user_letter in used_letters:\n",
    "            print('You have already used that character. Please try again.')\n",
    "        else:\n",
    "            print('Invalid character. Please try again')\n",
    "       \n",
    "        \n",
    "        if lives == 0:\n",
    "            print(f'You died, the word was ', word)\n",
    "            return \n",
    "        elif len(word_letters) == 0:\n",
    "            print(f'You guesses the word ', word, '!')\n",
    "            return\n",
    "        \n",
    "hangman ()\n",
    " \n"
   ]
  },
  {
   "cell_type": "code",
   "execution_count": null,
   "id": "9f4e5ec1-fa3c-4d20-b8ba-8299ea0d905d",
   "metadata": {},
   "outputs": [],
   "source": []
  }
 ],
 "metadata": {
  "kernelspec": {
   "display_name": "Python 3 (ipykernel)",
   "language": "python",
   "name": "python3"
  },
  "language_info": {
   "codemirror_mode": {
    "name": "ipython",
    "version": 3
   },
   "file_extension": ".py",
   "mimetype": "text/x-python",
   "name": "python",
   "nbconvert_exporter": "python",
   "pygments_lexer": "ipython3",
   "version": "3.9.7"
  }
 },
 "nbformat": 4,
 "nbformat_minor": 5
}
