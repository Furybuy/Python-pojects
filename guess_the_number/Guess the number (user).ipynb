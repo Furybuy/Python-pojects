{
 "cells": [
  {
   "cell_type": "code",
   "execution_count": 4,
   "id": "a7f29d96-e80e-4163-b402-9d65bcf2c857",
   "metadata": {},
   "outputs": [
    {
     "name": "stdin",
     "output_type": "stream",
     "text": [
      "Guesss a number between 1 and 10: 4\n"
     ]
    },
    {
     "name": "stdout",
     "output_type": "stream",
     "text": [
      "Sorry, guesss again. Too low.\n"
     ]
    },
    {
     "name": "stdin",
     "output_type": "stream",
     "text": [
      "Guesss a number between 1 and 10: 8\n"
     ]
    },
    {
     "name": "stdout",
     "output_type": "stream",
     "text": [
      "Sorry, guess again. Too high\n"
     ]
    },
    {
     "name": "stdin",
     "output_type": "stream",
     "text": [
      "Guesss a number between 1 and 10: 6\n"
     ]
    },
    {
     "name": "stdout",
     "output_type": "stream",
     "text": [
      "Congratz, you guessed the correct number 6\n"
     ]
    }
   ],
   "source": [
    "import random as rd\n",
    "def guess(x):\n",
    "        rd_number = rd.randint(1, x)\n",
    "        guess = 0\n",
    "        while guess != rd_number:\n",
    "                guess = int(input(f'Guesss a number between 1 and {x}:'))\n",
    "                if guess < rd_number:\n",
    "                    print ('Sorry, guesss again. Too low.')\n",
    "                elif guess > rd_number:\n",
    "                    print ('Sorry, guess again. Too high')\n",
    "\n",
    "                    \n",
    "        print (f'Congratz, you guessed the correct number {rd_number}')\n",
    "\n",
    "guess(10)"
   ]
  }
 ],
 "metadata": {
  "kernelspec": {
   "display_name": "Python 3 (ipykernel)",
   "language": "python",
   "name": "python3"
  },
  "language_info": {
   "codemirror_mode": {
    "name": "ipython",
    "version": 3
   },
   "file_extension": ".py",
   "mimetype": "text/x-python",
   "name": "python",
   "nbconvert_exporter": "python",
   "pygments_lexer": "ipython3",
   "version": "3.9.7"
  }
 },
 "nbformat": 4,
 "nbformat_minor": 5
}
