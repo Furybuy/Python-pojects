{
 "cells": [
  {
   "cell_type": "code",
   "execution_count": 12,
   "id": "d3864d81-1be1-4223-8419-4a82264c3738",
   "metadata": {},
   "outputs": [
    {
     "name": "stdin",
     "output_type": "stream",
     "text": [
      "Put a number:  1000\n"
     ]
    },
    {
     "name": "stdout",
     "output_type": "stream",
     "text": [
      "153\n",
      "918\n",
      "966\n",
      "973\n",
      "998\n",
      "1000\n",
      "Congratz, the number 1000\n"
     ]
    }
   ],
   "source": [
    "import random as rd\n",
    "\n",
    "numbers = int(input(\"Put a number: \"))\n",
    "\n",
    "def tried(x):\n",
    "    tried = rd.randint (1, x)\n",
    "    z = x\n",
    "    y = 1\n",
    "    print (tried)\n",
    "    while tried != numbers:\n",
    "        tried = rd.randint (y, z)\n",
    "        print(tried)\n",
    "        if tried < numbers:\n",
    "            y = tried + 1\n",
    "        elif tried > numbers:\n",
    "            z = tried - 1\n",
    "    print(f'Congratz, the number {tried}')\n",
    "\n",
    "tried(1000)\n",
    "    "
   ]
  },
  {
   "cell_type": "code",
   "execution_count": null,
   "id": "bc139efd-a67d-408e-83db-2689c0e980a0",
   "metadata": {},
   "outputs": [],
   "source": []
  }
 ],
 "metadata": {
  "kernelspec": {
   "display_name": "Python 3 (ipykernel)",
   "language": "python",
   "name": "python3"
  },
  "language_info": {
   "codemirror_mode": {
    "name": "ipython",
    "version": 3
   },
   "file_extension": ".py",
   "mimetype": "text/x-python",
   "name": "python",
   "nbconvert_exporter": "python",
   "pygments_lexer": "ipython3",
   "version": "3.9.7"
  }
 },
 "nbformat": 4,
 "nbformat_minor": 5
}
