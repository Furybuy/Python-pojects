{
 "cells": [
  {
   "cell_type": "code",
   "execution_count": 7,
   "id": "eee51b18-6634-47ff-83e0-d77cb8d80410",
   "metadata": {},
   "outputs": [
    {
     "name": "stdin",
     "output_type": "stream",
     "text": [
      "What's your choice? \n",
      " 'r' for rock, 'p' for paper, 's' for scissors r\n"
     ]
    },
    {
     "name": "stdout",
     "output_type": "stream",
     "text": [
      "You won!\n"
     ]
    }
   ],
   "source": [
    "import random as rd\n",
    "\n",
    "def play():\n",
    "    user = input(\"What\\'s your choice? \\n 'r' for rock, 'p' for paper, 's' for scissors\")\n",
    "    computer = rd.choice(['r', 'p', 's'])\n",
    "    \n",
    "    if user == computer:\n",
    "        return 'It\\'s a tie'\n",
    "    \n",
    "    if is_win (user, computer):\n",
    "        return 'You won!'\n",
    "    \n",
    "    return 'You lost!'\n",
    "\n",
    "def is_win(player, opponent):\n",
    "    if (player == 'r' and opponent == 's') or (player == 'p' and opponent == 'r') or (player == 's' and opponent == 'p'):\n",
    "        return True\n",
    "\n",
    "print(play())\n"
   ]
  },
  {
   "cell_type": "code",
   "execution_count": null,
   "id": "6dd4b607-c386-4784-893b-186d6b466379",
   "metadata": {},
   "outputs": [],
   "source": []
  }
 ],
 "metadata": {
  "kernelspec": {
   "display_name": "Python 3 (ipykernel)",
   "language": "python",
   "name": "python3"
  },
  "language_info": {
   "codemirror_mode": {
    "name": "ipython",
    "version": 3
   },
   "file_extension": ".py",
   "mimetype": "text/x-python",
   "name": "python",
   "nbconvert_exporter": "python",
   "pygments_lexer": "ipython3",
   "version": "3.9.7"
  }
 },
 "nbformat": 4,
 "nbformat_minor": 5
}
