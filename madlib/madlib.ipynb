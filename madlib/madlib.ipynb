{
 "cells": [
  {
   "cell_type": "code",
   "execution_count": 1,
   "id": "2886d792-b336-4983-b5c6-0f5f04b7f7ab",
   "metadata": {},
   "outputs": [
    {
     "name": "stdin",
     "output_type": "stream",
     "text": [
      "Adjective cool\n",
      "Verb Jump\n"
     ]
    },
    {
     "name": "stdout",
     "output_type": "stream",
     "text": [
      "Computer programing is so cool! It makes me so excited! I love to Jump!\n"
     ]
    }
   ],
   "source": [
    "adj = input(\"Adjective\")\n",
    "verb1 = input(\"Verb\")\n",
    "\n",
    "madlib = f\"Computer programing is so {adj}! It makes me so excited! I love to {verb1}!\"\n",
    "print(madlib)"
   ]
  }
 ],
 "metadata": {
  "kernelspec": {
   "display_name": "Python 3 (ipykernel)",
   "language": "python",
   "name": "python3"
  },
  "language_info": {
   "codemirror_mode": {
    "name": "ipython",
    "version": 3
   },
   "file_extension": ".py",
   "mimetype": "text/x-python",
   "name": "python",
   "nbconvert_exporter": "python",
   "pygments_lexer": "ipython3",
   "version": "3.9.7"
  }
 },
 "nbformat": 4,
 "nbformat_minor": 5
}
